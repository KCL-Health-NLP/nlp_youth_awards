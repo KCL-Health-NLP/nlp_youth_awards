{
  "nbformat": 4,
  "nbformat_minor": 0,
  "metadata": {
    "colab": {
      "provenance": []
    },
    "kernelspec": {
      "name": "python3",
      "display_name": "Python 3"
    },
    "language_info": {
      "name": "python"
    }
  },
  "cells": [
    {
      "cell_type": "code",
      "source": [
        "import pandas as pd\n",
        "import matplotlib.pyplot as plt"
      ],
      "metadata": {
        "id": "OdP3mSNWknK0"
      },
      "execution_count": null,
      "outputs": []
    },
    {
      "cell_type": "code",
      "source": [
        "!git clone --quiet https://github.com/KCL-Health-NLP/nlp_youth_awards.git\n",
        "print(\"Done copying files\")"
      ],
      "metadata": {
        "id": "R_ACHkTec88S"
      },
      "execution_count": null,
      "outputs": []
    },
    {
      "cell_type": "code",
      "source": [
        "context_sheets = pd.read_excel('./nlp_youth_awards/contexts.xlsx', sheet_name=None)"
      ],
      "metadata": {
        "id": "0faPUfXkel3y"
      },
      "execution_count": null,
      "outputs": []
    },
    {
      "cell_type": "code",
      "source": [
        "print(context_sheets.keys())"
      ],
      "metadata": {
        "id": "YdjXhuijfBnm"
      },
      "execution_count": null,
      "outputs": []
    },
    {
      "cell_type": "code",
      "source": [
        "print(context_sheets['lettuce'].head())"
      ],
      "metadata": {
        "id": "c3mbO_rRkwHB"
      },
      "execution_count": null,
      "outputs": []
    },
    {
      "cell_type": "code",
      "source": [
        "words_to_plot = ['lettuce', 'cucumber', 'butter']\n",
        "\n",
        "x_dimension = 'salad'\n",
        "y_dimension = 'recipe'\n",
        "\n",
        "vectors = {}"
      ],
      "metadata": {
        "id": "INxPxCu_vTfV"
      },
      "execution_count": null,
      "outputs": []
    },
    {
      "cell_type": "code",
      "source": [
        "for word in words_to_plot:\n",
        "\n",
        "  word_contexts = context_sheets[word]\n",
        "\n",
        "  if x_dimension in word_contexts['context'].values:\n",
        "    x_value = word_contexts.loc[word_contexts['context'] == x_dimension, ['relative-count']].values[0][0]\n",
        "  else:\n",
        "    x_value = 0\n",
        "\n",
        "  if y_dimension in word_contexts['context'].values:\n",
        "    y_value = word_contexts.loc[word_contexts['context'] == y_dimension, ['relative-count']].values[0][0]\n",
        "  else:\n",
        "    y_value = 0\n",
        "\n",
        "  vectors[word] = (x_value, y_value)\n",
        "\n",
        "print(vectors)\n",
        "\n"
      ],
      "metadata": {
        "id": "qX_PBj5LmFcd"
      },
      "execution_count": null,
      "outputs": []
    },
    {
      "cell_type": "code",
      "source": [
        "# plot each point\n",
        "for word, vec in vectors.items():\n",
        "    x = vec[0]\n",
        "    y = vec[1]\n",
        "    plt.plot(x, y , 'ro')\n",
        "    plt.quiver(0, 0, x, y, angles='xy', scale_units='xy', scale=1)\n",
        "    plt.text(x * (1 + 0.01), y * (1 + 0.01) , word, fontsize=12)\n",
        "\n",
        "# set axis labels and limits\n",
        "plt.xlabel(dimensions[0])\n",
        "plt.ylabel(dimensions[1])\n",
        "plt.xlim((-1, 101))\n",
        "plt.ylim((-1, 101))\n",
        "\n",
        "plt.show()\n"
      ],
      "metadata": {
        "id": "YZOyESNeroRV"
      },
      "execution_count": null,
      "outputs": []
    }
  ]
}