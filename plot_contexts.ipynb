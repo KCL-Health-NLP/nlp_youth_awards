{
  "nbformat": 4,
  "nbformat_minor": 0,
  "metadata": {
    "colab": {
      "provenance": []
    },
    "kernelspec": {
      "name": "python3",
      "display_name": "Python 3"
    },
    "language_info": {
      "name": "python"
    }
  },
  "cells": [
    {
      "cell_type": "code",
      "source": [
        "from google.colab import drive\n",
        "drive.mount('/content/drive')"
      ],
      "metadata": {
        "colab": {
          "base_uri": "https://localhost:8080/"
        },
        "id": "zWLuBZ3SYYC8",
        "outputId": "7d86ec5d-4fd4-476c-db85-c78920d03999"
      },
      "execution_count": null,
      "outputs": [
        {
          "output_type": "stream",
          "name": "stdout",
          "text": [
            "Mounted at /content/drive\n"
          ]
        }
      ]
    },
    {
      "cell_type": "code",
      "source": [
        "import pandas as pd\n",
        "import matplotlib.pyplot as plt"
      ],
      "metadata": {
        "id": "OdP3mSNWknK0"
      },
      "execution_count": null,
      "outputs": []
    },
    {
      "cell_type": "markdown",
      "source": [
        "## 1. Load data as dataframes"
      ],
      "metadata": {
        "id": "I15o-kDqhdXG"
      }
    },
    {
      "cell_type": "code",
      "source": [
        "xls = pd.ExcelFile('/content/drive/MyDrive/word co-occurrence/topic-collocates.xlsx')\n",
        "# xls = pd.ExcelFile('./topic-collocates.xlsx')\n",
        "\n",
        "# Include column names in the Excel file to facilitate data manipulation\n",
        "names = ['count', 'word', 'percent']\n",
        "\n",
        "# Add more ingredients in the list if you have more sheets in the file\n",
        "ingredients = ['lettuce', 'cucumber', 'butter']\n",
        "\n",
        "dfs = {}\n",
        "\n",
        "for ind in ingredients:\n",
        "  df = pd.read_excel(xls, ind, header=None, names=names)\n",
        "  # pre-process text string, as there is a blank before each word in the original file\n",
        "  df['word'] = df['word'].str.strip()\n",
        "  dfs[ind] = df"
      ],
      "metadata": {
        "id": "SeW9SidhYcNn"
      },
      "execution_count": null,
      "outputs": []
    },
    {
      "cell_type": "code",
      "source": [
        "dfs['butter'].head()"
      ],
      "metadata": {
        "colab": {
          "base_uri": "https://localhost:8080/",
          "height": 204
        },
        "id": "vzwJFz-Nhksd",
        "outputId": "7a91e922-8c22-410c-8890-1ea2c72a9e1e"
      },
      "execution_count": null,
      "outputs": [
        {
          "output_type": "execute_result",
          "data": {
            "text/plain": [
              "   count    word  percent\n",
              "0  29228  recipe      100\n",
              "1  23739   sugar       81\n",
              "2  20510    bake       70\n",
              "3  18003    cook       62\n",
              "4  17829   flour       61"
            ],
            "text/html": [
              "\n",
              "  <div id=\"df-c1a6efba-a085-4cde-af9b-be851f7e1b90\" class=\"colab-df-container\">\n",
              "    <div>\n",
              "<style scoped>\n",
              "    .dataframe tbody tr th:only-of-type {\n",
              "        vertical-align: middle;\n",
              "    }\n",
              "\n",
              "    .dataframe tbody tr th {\n",
              "        vertical-align: top;\n",
              "    }\n",
              "\n",
              "    .dataframe thead th {\n",
              "        text-align: right;\n",
              "    }\n",
              "</style>\n",
              "<table border=\"1\" class=\"dataframe\">\n",
              "  <thead>\n",
              "    <tr style=\"text-align: right;\">\n",
              "      <th></th>\n",
              "      <th>count</th>\n",
              "      <th>word</th>\n",
              "      <th>percent</th>\n",
              "    </tr>\n",
              "  </thead>\n",
              "  <tbody>\n",
              "    <tr>\n",
              "      <th>0</th>\n",
              "      <td>29228</td>\n",
              "      <td>recipe</td>\n",
              "      <td>100</td>\n",
              "    </tr>\n",
              "    <tr>\n",
              "      <th>1</th>\n",
              "      <td>23739</td>\n",
              "      <td>sugar</td>\n",
              "      <td>81</td>\n",
              "    </tr>\n",
              "    <tr>\n",
              "      <th>2</th>\n",
              "      <td>20510</td>\n",
              "      <td>bake</td>\n",
              "      <td>70</td>\n",
              "    </tr>\n",
              "    <tr>\n",
              "      <th>3</th>\n",
              "      <td>18003</td>\n",
              "      <td>cook</td>\n",
              "      <td>62</td>\n",
              "    </tr>\n",
              "    <tr>\n",
              "      <th>4</th>\n",
              "      <td>17829</td>\n",
              "      <td>flour</td>\n",
              "      <td>61</td>\n",
              "    </tr>\n",
              "  </tbody>\n",
              "</table>\n",
              "</div>\n",
              "    <div class=\"colab-df-buttons\">\n",
              "\n",
              "  <div class=\"colab-df-container\">\n",
              "    <button class=\"colab-df-convert\" onclick=\"convertToInteractive('df-c1a6efba-a085-4cde-af9b-be851f7e1b90')\"\n",
              "            title=\"Convert this dataframe to an interactive table.\"\n",
              "            style=\"display:none;\">\n",
              "\n",
              "  <svg xmlns=\"http://www.w3.org/2000/svg\" height=\"24px\" viewBox=\"0 -960 960 960\">\n",
              "    <path d=\"M120-120v-720h720v720H120Zm60-500h600v-160H180v160Zm220 220h160v-160H400v160Zm0 220h160v-160H400v160ZM180-400h160v-160H180v160Zm440 0h160v-160H620v160ZM180-180h160v-160H180v160Zm440 0h160v-160H620v160Z\"/>\n",
              "  </svg>\n",
              "    </button>\n",
              "\n",
              "  <style>\n",
              "    .colab-df-container {\n",
              "      display:flex;\n",
              "      gap: 12px;\n",
              "    }\n",
              "\n",
              "    .colab-df-convert {\n",
              "      background-color: #E8F0FE;\n",
              "      border: none;\n",
              "      border-radius: 50%;\n",
              "      cursor: pointer;\n",
              "      display: none;\n",
              "      fill: #1967D2;\n",
              "      height: 32px;\n",
              "      padding: 0 0 0 0;\n",
              "      width: 32px;\n",
              "    }\n",
              "\n",
              "    .colab-df-convert:hover {\n",
              "      background-color: #E2EBFA;\n",
              "      box-shadow: 0px 1px 2px rgba(60, 64, 67, 0.3), 0px 1px 3px 1px rgba(60, 64, 67, 0.15);\n",
              "      fill: #174EA6;\n",
              "    }\n",
              "\n",
              "    .colab-df-buttons div {\n",
              "      margin-bottom: 4px;\n",
              "    }\n",
              "\n",
              "    [theme=dark] .colab-df-convert {\n",
              "      background-color: #3B4455;\n",
              "      fill: #D2E3FC;\n",
              "    }\n",
              "\n",
              "    [theme=dark] .colab-df-convert:hover {\n",
              "      background-color: #434B5C;\n",
              "      box-shadow: 0px 1px 3px 1px rgba(0, 0, 0, 0.15);\n",
              "      filter: drop-shadow(0px 1px 2px rgba(0, 0, 0, 0.3));\n",
              "      fill: #FFFFFF;\n",
              "    }\n",
              "  </style>\n",
              "\n",
              "    <script>\n",
              "      const buttonEl =\n",
              "        document.querySelector('#df-c1a6efba-a085-4cde-af9b-be851f7e1b90 button.colab-df-convert');\n",
              "      buttonEl.style.display =\n",
              "        google.colab.kernel.accessAllowed ? 'block' : 'none';\n",
              "\n",
              "      async function convertToInteractive(key) {\n",
              "        const element = document.querySelector('#df-c1a6efba-a085-4cde-af9b-be851f7e1b90');\n",
              "        const dataTable =\n",
              "          await google.colab.kernel.invokeFunction('convertToInteractive',\n",
              "                                                    [key], {});\n",
              "        if (!dataTable) return;\n",
              "\n",
              "        const docLinkHtml = 'Like what you see? Visit the ' +\n",
              "          '<a target=\"_blank\" href=https://colab.research.google.com/notebooks/data_table.ipynb>data table notebook</a>'\n",
              "          + ' to learn more about interactive tables.';\n",
              "        element.innerHTML = '';\n",
              "        dataTable['output_type'] = 'display_data';\n",
              "        await google.colab.output.renderOutput(dataTable, element);\n",
              "        const docLink = document.createElement('div');\n",
              "        docLink.innerHTML = docLinkHtml;\n",
              "        element.appendChild(docLink);\n",
              "      }\n",
              "    </script>\n",
              "  </div>\n",
              "\n",
              "\n",
              "<div id=\"df-9d7ae0ec-929b-4f68-afae-5bb8e14b5402\">\n",
              "  <button class=\"colab-df-quickchart\" onclick=\"quickchart('df-9d7ae0ec-929b-4f68-afae-5bb8e14b5402')\"\n",
              "            title=\"Suggest charts\"\n",
              "            style=\"display:none;\">\n",
              "\n",
              "<svg xmlns=\"http://www.w3.org/2000/svg\" height=\"24px\"viewBox=\"0 0 24 24\"\n",
              "     width=\"24px\">\n",
              "    <g>\n",
              "        <path d=\"M19 3H5c-1.1 0-2 .9-2 2v14c0 1.1.9 2 2 2h14c1.1 0 2-.9 2-2V5c0-1.1-.9-2-2-2zM9 17H7v-7h2v7zm4 0h-2V7h2v10zm4 0h-2v-4h2v4z\"/>\n",
              "    </g>\n",
              "</svg>\n",
              "  </button>\n",
              "\n",
              "<style>\n",
              "  .colab-df-quickchart {\n",
              "      --bg-color: #E8F0FE;\n",
              "      --fill-color: #1967D2;\n",
              "      --hover-bg-color: #E2EBFA;\n",
              "      --hover-fill-color: #174EA6;\n",
              "      --disabled-fill-color: #AAA;\n",
              "      --disabled-bg-color: #DDD;\n",
              "  }\n",
              "\n",
              "  [theme=dark] .colab-df-quickchart {\n",
              "      --bg-color: #3B4455;\n",
              "      --fill-color: #D2E3FC;\n",
              "      --hover-bg-color: #434B5C;\n",
              "      --hover-fill-color: #FFFFFF;\n",
              "      --disabled-bg-color: #3B4455;\n",
              "      --disabled-fill-color: #666;\n",
              "  }\n",
              "\n",
              "  .colab-df-quickchart {\n",
              "    background-color: var(--bg-color);\n",
              "    border: none;\n",
              "    border-radius: 50%;\n",
              "    cursor: pointer;\n",
              "    display: none;\n",
              "    fill: var(--fill-color);\n",
              "    height: 32px;\n",
              "    padding: 0;\n",
              "    width: 32px;\n",
              "  }\n",
              "\n",
              "  .colab-df-quickchart:hover {\n",
              "    background-color: var(--hover-bg-color);\n",
              "    box-shadow: 0 1px 2px rgba(60, 64, 67, 0.3), 0 1px 3px 1px rgba(60, 64, 67, 0.15);\n",
              "    fill: var(--button-hover-fill-color);\n",
              "  }\n",
              "\n",
              "  .colab-df-quickchart-complete:disabled,\n",
              "  .colab-df-quickchart-complete:disabled:hover {\n",
              "    background-color: var(--disabled-bg-color);\n",
              "    fill: var(--disabled-fill-color);\n",
              "    box-shadow: none;\n",
              "  }\n",
              "\n",
              "  .colab-df-spinner {\n",
              "    border: 2px solid var(--fill-color);\n",
              "    border-color: transparent;\n",
              "    border-bottom-color: var(--fill-color);\n",
              "    animation:\n",
              "      spin 1s steps(1) infinite;\n",
              "  }\n",
              "\n",
              "  @keyframes spin {\n",
              "    0% {\n",
              "      border-color: transparent;\n",
              "      border-bottom-color: var(--fill-color);\n",
              "      border-left-color: var(--fill-color);\n",
              "    }\n",
              "    20% {\n",
              "      border-color: transparent;\n",
              "      border-left-color: var(--fill-color);\n",
              "      border-top-color: var(--fill-color);\n",
              "    }\n",
              "    30% {\n",
              "      border-color: transparent;\n",
              "      border-left-color: var(--fill-color);\n",
              "      border-top-color: var(--fill-color);\n",
              "      border-right-color: var(--fill-color);\n",
              "    }\n",
              "    40% {\n",
              "      border-color: transparent;\n",
              "      border-right-color: var(--fill-color);\n",
              "      border-top-color: var(--fill-color);\n",
              "    }\n",
              "    60% {\n",
              "      border-color: transparent;\n",
              "      border-right-color: var(--fill-color);\n",
              "    }\n",
              "    80% {\n",
              "      border-color: transparent;\n",
              "      border-right-color: var(--fill-color);\n",
              "      border-bottom-color: var(--fill-color);\n",
              "    }\n",
              "    90% {\n",
              "      border-color: transparent;\n",
              "      border-bottom-color: var(--fill-color);\n",
              "    }\n",
              "  }\n",
              "</style>\n",
              "\n",
              "  <script>\n",
              "    async function quickchart(key) {\n",
              "      const quickchartButtonEl =\n",
              "        document.querySelector('#' + key + ' button');\n",
              "      quickchartButtonEl.disabled = true;  // To prevent multiple clicks.\n",
              "      quickchartButtonEl.classList.add('colab-df-spinner');\n",
              "      try {\n",
              "        const charts = await google.colab.kernel.invokeFunction(\n",
              "            'suggestCharts', [key], {});\n",
              "      } catch (error) {\n",
              "        console.error('Error during call to suggestCharts:', error);\n",
              "      }\n",
              "      quickchartButtonEl.classList.remove('colab-df-spinner');\n",
              "      quickchartButtonEl.classList.add('colab-df-quickchart-complete');\n",
              "    }\n",
              "    (() => {\n",
              "      let quickchartButtonEl =\n",
              "        document.querySelector('#df-9d7ae0ec-929b-4f68-afae-5bb8e14b5402 button');\n",
              "      quickchartButtonEl.style.display =\n",
              "        google.colab.kernel.accessAllowed ? 'block' : 'none';\n",
              "    })();\n",
              "  </script>\n",
              "</div>\n",
              "\n",
              "    </div>\n",
              "  </div>\n"
            ],
            "application/vnd.google.colaboratory.intrinsic+json": {
              "type": "dataframe",
              "summary": "{\n  \"name\": \"dfs['butter']\",\n  \"rows\": 5,\n  \"fields\": [\n    {\n      \"column\": \"count\",\n      \"properties\": {\n        \"dtype\": \"number\",\n        \"std\": 4763,\n        \"min\": 17829,\n        \"max\": 29228,\n        \"num_unique_values\": 5,\n        \"samples\": [\n          23739,\n          17829,\n          20510\n        ],\n        \"semantic_type\": \"\",\n        \"description\": \"\"\n      }\n    },\n    {\n      \"column\": \"word\",\n      \"properties\": {\n        \"dtype\": \"string\",\n        \"num_unique_values\": 5,\n        \"samples\": [\n          \"sugar\",\n          \"flour\",\n          \"bake\"\n        ],\n        \"semantic_type\": \"\",\n        \"description\": \"\"\n      }\n    },\n    {\n      \"column\": \"percent\",\n      \"properties\": {\n        \"dtype\": \"number\",\n        \"std\": 16,\n        \"min\": 61,\n        \"max\": 100,\n        \"num_unique_values\": 5,\n        \"samples\": [\n          81,\n          61,\n          70\n        ],\n        \"semantic_type\": \"\",\n        \"description\": \"\"\n      }\n    }\n  ]\n}"
            }
          },
          "metadata": {},
          "execution_count": 7
        }
      ]
    },
    {
      "cell_type": "markdown",
      "source": [
        "## 2. Choose two words of interest"
      ],
      "metadata": {
        "id": "jSqkmf0liow9"
      }
    },
    {
      "cell_type": "code",
      "source": [
        "w1, w2 = 'salad', 'recipe'"
      ],
      "metadata": {
        "id": "088AIxIyYsGJ"
      },
      "execution_count": null,
      "outputs": []
    },
    {
      "cell_type": "markdown",
      "source": [
        "## 3. Get co-occurrence between each chose word and an ingredient"
      ],
      "metadata": {
        "id": "cyb_G1i-ismx"
      }
    },
    {
      "cell_type": "code",
      "source": [
        "cooccurrences = []\n",
        "# go through each ingredient to get their co-occurrences with each chose word\n",
        "for ind in ingredients:\n",
        "  df = dfs[ind]\n",
        "  x, y = 0, 0\n",
        "\n",
        "  # get co-occurrence with the first word\n",
        "  if w1 in df['word'].values:\n",
        "    x = df.loc[df['word']==w1, 'percent'].values[0]\n",
        "\n",
        "  # get co-occurrence with the second word\n",
        "  if w2 in df['word'].values:\n",
        "    y = df.loc[df['word']==w2, 'percent'].values[0]\n",
        "\n",
        "  cooccurrences.append((ind, x, y))"
      ],
      "metadata": {
        "id": "DPW9K__lZD45"
      },
      "execution_count": null,
      "outputs": []
    },
    {
      "cell_type": "code",
      "source": [
        "# Check the result\n",
        "cooccurrences"
      ],
      "metadata": {
        "colab": {
          "base_uri": "https://localhost:8080/"
        },
        "id": "vp1VMbT2c9Yd",
        "outputId": "bf29c384-3582-45dd-a0b9-04ec5b109b48"
      },
      "execution_count": null,
      "outputs": [
        {
          "output_type": "execute_result",
          "data": {
            "text/plain": [
              "[('lettuce', 100, 51), ('cucumber', 88, 79), ('butter', 0, 100)]"
            ]
          },
          "metadata": {},
          "execution_count": 10
        }
      ]
    },
    {
      "cell_type": "markdown",
      "source": [
        "## 4. Plot the co-occurrences"
      ],
      "metadata": {
        "id": "jK4cEUtDjHVp"
      }
    },
    {
      "cell_type": "code",
      "source": [
        "# plot each point\n",
        "for c in cooccurrences:\n",
        "    ingredient, x, y = c\n",
        "    plt.plot(x, y , 'ro')\n",
        "    plt.quiver(0, 0, x, y, angles='xy', scale_units='xy', scale=1)\n",
        "    plt.text(x * (1 + 0.01), y * (1 + 0.01) , ingredient, fontsize=12)\n",
        "\n",
        "# set axis labels and limits\n",
        "plt.xlabel(w1)\n",
        "plt.ylabel(w2)\n",
        "plt.xlim((-1, 101))\n",
        "plt.ylim((-1, 101))\n",
        "plt.show()"
      ],
      "metadata": {
        "colab": {
          "base_uri": "https://localhost:8080/",
          "height": 463
        },
        "id": "Q9MNnmegeNaK",
        "outputId": "70488dd4-1c36-4d5e-b648-ae7e6cf8951e"
      },
      "execution_count": null,
      "outputs": [
        {
          "output_type": "display_data",
          "data": {
            "text/plain": [
              "<Figure size 640x480 with 1 Axes>"
            ],
            "image/png": "[encoded data removed]"
          },
          "metadata": {}
        }
      ]
    },
    {
      "cell_type": "markdown",
      "source": [
        "## 5. Put together as a function"
      ],
      "metadata": {
        "id": "xMQk72hrmrYj"
      }
    },
    {
      "cell_type": "code",
      "source": [
        "def plot_cooccurrences(words):\n",
        "  w1, w2 = words[0], words[1]\n",
        "  cooccurrences = []\n",
        "  for ind in ingredients:\n",
        "    df = dfs[ind]\n",
        "    x, y = 0, 0\n",
        "    if w1 in df['word'].values:\n",
        "      x = df.loc[df['word']==w1, 'percent'].values[0]\n",
        "\n",
        "    if w2 in df['word'].values:\n",
        "      y = df.loc[df['word']==w2, 'percent'].values[0]\n",
        "\n",
        "    cooccurrences.append((ind, x, y))\n",
        "\n",
        "  for c in cooccurrences:\n",
        "      ingredient, x, y = c\n",
        "      plt.plot(x, y , 'ro')\n",
        "      plt.quiver(0, 0, x, y, angles='xy', scale_units='xy', scale=1)\n",
        "      plt.text(x * (1 + 0.01), y * (1 + 0.01) , ingredient, fontsize=12)\n",
        "\n",
        "  plt.xlabel(w1)\n",
        "  plt.ylabel(w2)\n",
        "  plt.xlim((-1, 101))\n",
        "  plt.ylim((-1, 101))\n",
        "  plt.show()"
      ],
      "metadata": {
        "id": "R_Fuwi4ZgZSn"
      },
      "execution_count": null,
      "outputs": []
    },
    {
      "cell_type": "code",
      "source": [
        "words = []\n",
        "print('Please enter two words of interest:')\n",
        "for i in range(2):\n",
        "    val = input()\n",
        "    print('Your word %d: %s' %(i+1, val))\n",
        "    words.append(val)\n",
        "plot_cooccurrences(words)"
      ],
      "metadata": {
        "colab": {
          "base_uri": "https://localhost:8080/",
          "height": 548
        },
        "id": "fJG0hqOelOso",
        "outputId": "b352b957-a989-4776-cc5f-4efa46befba3"
      },
      "execution_count": null,
      "outputs": [
        {
          "output_type": "stream",
          "name": "stdout",
          "text": [
            "Please enter two words of interest:\n",
            "salad\n",
            "Your word 1: salad\n",
            "recipe\n",
            "Your word 2: recipe\n"
          ]
        },
        {
          "output_type": "display_data",
          "data": {
            "text/plain": [
              "<Figure size 640x480 with 1 Axes>"
            ],
            "image/png": "[encoded data removed]"
          },
          "metadata": {}
        }
      ]
    },
    {
      "cell_type": "code",
      "source": [],
      "metadata": {
        "id": "C8Zxwgn3lpsA"
      },
      "execution_count": null,
      "outputs": []
    }
  ]
}