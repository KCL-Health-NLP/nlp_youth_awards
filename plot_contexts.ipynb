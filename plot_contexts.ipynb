{
  "nbformat": 4,
  "nbformat_minor": 0,
  "metadata": {
    "colab": {
      "provenance": []
    },
    "kernelspec": {
      "name": "python3",
      "display_name": "Python 3"
    },
    "language_info": {
      "name": "python"
    }
  },
  "cells": [
    {
      "cell_type": "code",
      "source": [
        "# Import some libraries we need.\n",
        "import pandas as pd\n",
        "import matplotlib.pyplot as plt"
      ],
      "metadata": {
        "id": "OdP3mSNWknK0"
      },
      "execution_count": null,
      "outputs": []
    },
    {
      "cell_type": "code",
      "source": [
        "# Copy files from github in to the local Colab filespace.\n",
        "!git clone --quiet https://github.com/KCL-Health-NLP/nlp_youth_awards.git\n",
        "print(\"Done copying files\")"
      ],
      "metadata": {
        "id": "R_ACHkTec88S"
      },
      "execution_count": null,
      "outputs": []
    },
    {
      "cell_type": "code",
      "source": [
        "# Read in the spreadsheet.\n",
        "contexts = pd.read_excel('./nlp_youth_awards/contexts.xlsx', sheet_name=None)"
      ],
      "metadata": {
        "id": "0faPUfXkel3y"
      },
      "execution_count": null,
      "outputs": []
    },
    {
      "cell_type": "code",
      "source": [
        "# Let's take a look at the names of the sheets that have been read in.\n",
        "# These are our words.\n",
        "print(contexts.keys())"
      ],
      "metadata": {
        "id": "YdjXhuijfBnm"
      },
      "execution_count": null,
      "outputs": []
    },
    {
      "cell_type": "code",
      "source": [
        "# Let's take a look at the first few lines of one of the sheets.\n",
        "# You can change this to look at others.\n",
        "print(contexts['lettuce'].head(10))"
      ],
      "metadata": {
        "id": "c3mbO_rRkwHB"
      },
      "execution_count": null,
      "outputs": []
    },
    {
      "cell_type": "code",
      "source": [
        "# This function takes a word, and a dimension word.\n",
        "# It looks up the number of times the dimension word\n",
        "# occurs with the word. The value of the dimension\n",
        "# is returned. If the dimension word is not found,\n",
        "# zero is returned\n",
        "def get_dimension_value(word, dimension):\n",
        "\n",
        "  # Get the table of dimensions for this word\n",
        "  word_context = contexts[word]\n",
        "\n",
        "  # If the dimension word is in the context column of the table\n",
        "  if dimension in word_context['context'].values:\n",
        "\n",
        "    # The value of the dimension is found in the row named for that dimension\n",
        "    # and in the relative-count column\n",
        "    value = word_context.loc[word_context['context'] == dimension, ['relative-count']].values[0][0]\n",
        "\n",
        "  # If the dimension word is not found in the table\n",
        "  else:\n",
        "    value = 0\n",
        "\n",
        "  return value"
      ],
      "metadata": {
        "id": "xQo_Np6LUS4O"
      },
      "execution_count": null,
      "outputs": []
    },
    {
      "cell_type": "code",
      "source": [
        "# Choose some words to plot\n",
        "words_to_plot = ['lettuce', 'cucumber', 'butter', 'sugar']\n",
        "\n",
        "# Choose vector dimensions to plot the words against\n",
        "x_dimension = 'bowl'\n",
        "y_dimension = 'salad'\n",
        "\n",
        "# Make an empty list to hold the vectors\n",
        "vectors = []"
      ],
      "metadata": {
        "id": "INxPxCu_vTfV"
      },
      "execution_count": null,
      "outputs": []
    },
    {
      "cell_type": "code",
      "source": [
        "# Go through the words one at a time\n",
        "for word in words_to_plot:\n",
        "\n",
        "  # Look up the values of the two dimensions\n",
        "  x_value = get_dimension_value(word, x_dimension)\n",
        "  y_value = get_dimension_value(word, y_dimension)\n",
        "\n",
        "  # Add the dimensions in to the vectors dictionary\n",
        "  vectors.append((word, x_value, y_value))\n",
        "\n",
        "# Take a look at the vectors\n",
        "print(vectors)\n",
        "\n"
      ],
      "metadata": {
        "id": "qX_PBj5LmFcd"
      },
      "execution_count": null,
      "outputs": []
    },
    {
      "cell_type": "code",
      "source": [
        "# Go through the vectors and plot each one\n",
        "for word, x, y in vectors:\n",
        "\n",
        "    # Plot an arrow\n",
        "    plt.quiver(0, 0, x, y, angles='xy', scale_units='xy', scale=1)\n",
        "\n",
        "    # Add a label at the end of each arrow\n",
        "    plt.text(x+2, y+2, word, fontsize=8)\n",
        "\n",
        "# Set axis labels and limits\n",
        "plt.xlabel(x_dimension)\n",
        "plt.ylabel(y_dimension)\n",
        "plt.xlim((-1, 101))\n",
        "plt.ylim((-1, 101))\n",
        "\n",
        "# Show the graph\n",
        "plt.show()\n"
      ],
      "metadata": {
        "id": "YZOyESNeroRV"
      },
      "execution_count": null,
      "outputs": []
    }
  ]
}